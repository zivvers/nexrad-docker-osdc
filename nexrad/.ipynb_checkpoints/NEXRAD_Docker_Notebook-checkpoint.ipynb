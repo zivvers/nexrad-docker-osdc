{
 "cells": [
  {
   "cell_type": "markdown",
   "metadata": {
    "collapsed": false,
    "scrolled": true
   },
   "source": [
    "# \"DE-BUGGING\" NEXRAD LEVEL 2 PLOTTING - DOCKERIZED"
   ]
  },
  {
   "cell_type": "markdown",
   "metadata": {},
   "source": [
    "This tutorial will perform the same plotting of NEXRAD LEVEL 2 data, but it will use Docker containers for the  steps necessary to make a radar animation.\n",
    "\n",
    "This Jupyter Notebook is being run from a Docker container from which we are able to run Docker commands on the host Griffin VM. This is possible as we shared the Docker socket from the host VM and installed Docker on the Jupter image we are currently using. This configuration of using a Docker container to start external Docker containers is known as \"Docker outside of Docker\" (dood). "
   ]
  },
  {
   "cell_type": "markdown",
   "metadata": {},
   "source": [
    "##### Let's start by building the Docker image for making static plots of NEXRAD data. Let's look at the Dockerfile used to build this image"
   ]
  },
  {
   "cell_type": "code",
   "execution_count": 1,
   "metadata": {
    "collapsed": false
   },
   "outputs": [
    {
     "name": "stdout",
     "output_type": "stream",
     "text": [
      "FROM continuumio/miniconda\r\n",
      "MAINTAINER Ziv Dreyfuss \"ziv@uchicago.edu\"\r\n",
      "\r\n",
      "ENV https_proxy='http://cloud-proxy:3128'\r\n",
      "ENV http_proxy='http://cloud-proxy:3128'\r\n",
      "\r\n",
      "RUN conda update conda\r\n",
      "RUN conda install -c https://conda.binstar.org/jjhelmus pyart\r\n",
      "RUN conda install basemap\r\n"
     ]
    }
   ],
   "source": [
    "! cat /home/$NB_USER/work/docker_images/plot_maker/Dockerfile"
   ]
  },
  {
   "cell_type": "markdown",
   "metadata": {},
   "source": [
    "##### Using only a few commands in this Dockerfile we are able to pull a Miniconda environment and add modules with which we can plot NEXRAD data"
   ]
  },
  {
   "cell_type": "code",
   "execution_count": 6,
   "metadata": {
    "collapsed": false
   },
   "outputs": [
    {
     "name": "stdout",
     "output_type": "stream",
     "text": [
      "/bin/sh: 1:  sudo: not found\r\n"
     ]
    }
   ],
   "source": [
    "! cd /home/$NB_USER/work/docker_images/plot_maker/ ;\\ sudo docker build -t 'plot_maker' ."
   ]
  },
  {
   "cell_type": "markdown",
   "metadata": {},
   "source": [
    "##### But before we can run a Docker container from the image we just created, we have to download NEXRAD L2 files into the directory that we share with the Griffin VM and will share with other Docker containers. We will use nearly identical functions as before."
   ]
  },
  {
   "cell_type": "code",
   "execution_count": null,
   "metadata": {
    "collapsed": false
   },
   "outputs": [],
   "source": [
    "import hashlib #to confirm hash of NEXRAD L2 files\n",
    "\n",
    "# read in .txt file of ark IDs\n",
    "with open('mayfly_arks.txt', 'r') as f:\n",
    "    file_lines = f.readlines()\n",
    "    id_service_arks = [line.strip() for line in file_lines]\n",
    "\n",
    "    \n",
    "# want to be able to confirm we are getting right data\n",
    "# hash provided in signpost should match locally calculated hash\n",
    "def confirm_hash(hash_algo, file_,actual_hash):\n",
    "    with open(file_, 'rb') as f:\n",
    "        computed_hash = hash_algo(f.read()).hexdigest()\n",
    " \n",
    "    if computed_hash == actual_hash:\n",
    "        return True\n",
    "    else:\n",
    "        return False\n",
    "\n",
    "\n",
    "# download, validate(optional) NEXRAD L2 data \n",
    "def download_from_arks(id_service_arks, intended_dir, hash_confirmation = True,pref_repo='https://griffin-objstore.opensciencedatacloud.org/'):\n",
    "    hash_algo_dict = {'md5':hashlib.md5, 'sha1':hashlib.sha1, 'sha256':hashlib.sha256}\n",
    "    nexrad_file_list = [] #make list of downloaded files\n",
    "    \n",
    "    for ark_id in id_service_arks:\n",
    "        signpost_url = 'https://signpost.opensciencedatacloud.org/alias/' + ark_id\n",
    "        resp = requests.get(signpost_url,\n",
    "                           proxies={'http':'http://cloud-proxy:3128','https':'http://cloud-proxy:3128'} \n",
    "                           )\n",
    "        \n",
    "        # make JSON response into dictionary\n",
    "        signpost_dict = resp.json()\n",
    "        \n",
    "        # get repository URLs\n",
    "        repo_urls = data_url = signpost_dict['urls']\n",
    "       \n",
    "        for url in repo_urls:\n",
    "            # if preferred repo exists, will opt for that URL\n",
    "            if pref_repo in url:\n",
    "                break\n",
    "        # otherwise, will use last url provided\n",
    "        \n",
    "        # wow! we can run this bash command from Jupyter!\n",
    "        !sudo wget -P $intended_dir $url\n",
    "        \n",
    "        # need file path for hash validation\n",
    "        file_name = url.split('/')[-1]\n",
    "        file_path = os.path.join(intended_dir, file_name)\n",
    "        nexrad_file_list.append(file_path)\n",
    "        \n",
    "        if hash_confirmation:\n",
    "            # get dict of hash type: hash\n",
    "            hashes = signpost_dict['hashes']\n",
    "            # iterate though list of (hash type, hash) tuples\n",
    "            for hash_tup in hashes.items():\n",
    "                # get proper hash algorithm function\n",
    "                hash_algo = hash_algo_dict[hash_tup[0]]\n",
    "\n",
    "                # fail if not the downloaded file has diff. hash\n",
    "                assert confirm_hash(hash_algo, file_path, hash_tup[1]), '%s hash calculated does not match hash in metadata' % file_path\n",
    "    return nexrad_file_list"
   ]
  },
  {
   "cell_type": "code",
   "execution_count": null,
   "metadata": {
    "collapsed": false
   },
   "outputs": [],
   "source": [
    "# read ark ids out of .txt file in nexrad directory\n",
    "ark_ids = [ark_id.strip() for ark_id in open('mayfly_arks.txt').readlines()]"
   ]
  },
  {
   "cell_type": "code",
   "execution_count": null,
   "metadata": {
    "collapsed": false,
    "scrolled": false
   },
   "outputs": [],
   "source": [
    "# run download function\n",
    "nexrad_file_list = download_from_arks(ark_ids, 'input_files')"
   ]
  },
  {
   "cell_type": "markdown",
   "metadata": {},
   "source": [
    "##### NOTE: As we are mounting directories onto our Docker containers, we have to provide the absolute path of the files AS THEY WILL BE WITHIN THE DOCKER CONTAINERS"
   ]
  },
  {
   "cell_type": "code",
   "execution_count": null,
   "metadata": {
    "collapsed": false
   },
   "outputs": [],
   "source": [
    "# while this absolute path won't work in our current container, will when we mount /home/ubuntu/nexrad onto /home/nexrad\n",
    "nexrad_container_file_list = [os.path.join('/home/nexrad', file_name) for file_name in nexrad_file_list]\n",
    "\n",
    "# quick manipulation to allow us to feed file list into stdin of function\n",
    "nexrad_file_input = ' '.join(nexrad_container_file_list)\n",
    "! echo $nexrad_file_input"
   ]
  },
  {
   "cell_type": "markdown",
   "metadata": {},
   "source": [
    "##### Now we are ready to run the plot making container. Within the container we run a Python script that employs the same function as we used to plot unfiltered NEXRAD L2 data as before. Notice how we share the directory /home/ubuntu/nexrad/ with the container"
   ]
  },
  {
   "cell_type": "code",
   "execution_count": null,
   "metadata": {
    "collapsed": false
   },
   "outputs": [],
   "source": [
    "#! sudo docker run  -v /home/ubuntu/nexrad:/home/nexrad plot_maker python /home/nexrad/unfiltered_nexrad_plotter.py -f $nexrad_file_input  -d /home/nexrad/output_plots -p plot_files.txt\n",
    "! sudo docker run  -v /home/ubuntu/nexrad:/home/nexrad plot_maker python /home/nexrad/unfiltered_nexrad_plotter.py -f  /home/nexrad/input_files/KARX20150626_021937_V06.gz /home/nexrad/input_files/KARX20150626_022359_V06.gz -d /home/nexrad/output_plots -p plot_files.txt"
   ]
  },
  {
   "cell_type": "markdown",
   "metadata": {},
   "source": [
    "##### Let's see the list of plots we just made! "
   ]
  },
  {
   "cell_type": "code",
   "execution_count": null,
   "metadata": {
    "collapsed": false
   },
   "outputs": [],
   "source": [
    "! cat /home/$NB_USER/work/nexrad/output_plots/plot_files.txt"
   ]
  },
  {
   "cell_type": "markdown",
   "metadata": {},
   "source": [
    "##### GREAT! Now let's build the Docker image with which we will create animations from our static plots"
   ]
  },
  {
   "cell_type": "code",
   "execution_count": null,
   "metadata": {
    "collapsed": false
   },
   "outputs": [],
   "source": [
    "! cd /home/$NB_USER/work/docker_images/animation_maker/ ;\\\n",
    "sudo docker build -t 'animation_maker' ."
   ]
  },
  {
   "cell_type": "code",
   "execution_count": null,
   "metadata": {
    "collapsed": false
   },
   "outputs": [],
   "source": [
    "! sudo docker run -v /home/ubuntu/nexrad:/home/nexrad animation_maker python /home/nexrad/animation_maker.py -f /home/nexrad/output_plots/plot_files.txt -n /home/nexrad/animation_html/anim_1"
   ]
  },
  {
   "cell_type": "code",
   "execution_count": null,
   "metadata": {
    "collapsed": false
   },
   "outputs": [],
   "source": [
    "html = open('/home/jovyan/work/nexrad/animation_html/anim_1').read()"
   ]
  },
  {
   "cell_type": "code",
   "execution_count": null,
   "metadata": {
    "collapsed": false
   },
   "outputs": [],
   "source": [
    "from IPython.display import HTML\n",
    "\n",
    "HTML(html)"
   ]
  },
  {
   "cell_type": "markdown",
   "metadata": {
    "collapsed": true
   },
   "source": [
    "##### Great, now we make filtered plots through the same Docker image with which we made the unfiltered plots. We use a new Python script, filtered_nexrad_plotter.py, that is added to the container when we put it into the shared volume"
   ]
  },
  {
   "cell_type": "code",
   "execution_count": null,
   "metadata": {
    "collapsed": false
   },
   "outputs": [],
   "source": [
    "! sudo docker run  -v /home/ubuntu/nexrad:/home/nexrad plot_maker python /home/nexrad/filtered_nexrad_plotter.py -f $nexrad_file_input  -d /home/nexrad/output_plots -p only_weather_plot_files.txt -n weather_"
   ]
  },
  {
   "cell_type": "markdown",
   "metadata": {},
   "source": [
    "##### Let's run the same script, but filtering out weather phenomena to reveal the bioscatter captured in the NEXRAD L2 data"
   ]
  },
  {
   "cell_type": "code",
   "execution_count": null,
   "metadata": {
    "collapsed": false
   },
   "outputs": [],
   "source": [
    "# notice '-b' flag at the end \n",
    "! sudo docker run  -v /home/ubuntu/nexrad:/home/nexrad plot_maker python /home/nexrad/filtered_nexrad_plotter.py -f $nexrad_file_input  -d /home/nexrad/output_plots -p bioscatter_plot_files.txt -n 'bioscatter_' -b"
   ]
  },
  {
   "cell_type": "markdown",
   "metadata": {},
   "source": [
    "##### Alright! Now let's make/view the animations. First up - only weather"
   ]
  },
  {
   "cell_type": "code",
   "execution_count": null,
   "metadata": {
    "collapsed": false
   },
   "outputs": [],
   "source": [
    "! sudo docker run -v /home/ubuntu/nexrad:/home/nexrad animation_maker python /home/nexrad/animation_maker.py -f /home/nexrad/output_plots/only_weather_plot_files.txt -n /home/nexrad/animation_html/anim_weather"
   ]
  },
  {
   "cell_type": "code",
   "execution_count": null,
   "metadata": {
    "collapsed": false
   },
   "outputs": [],
   "source": [
    "html = open('/home/jovyan/work/nexrad/animation_html/anim_weather').read()\n",
    "HTML(html)"
   ]
  },
  {
   "cell_type": "code",
   "execution_count": null,
   "metadata": {
    "collapsed": true
   },
   "outputs": [],
   "source": []
  }
 ],
 "metadata": {
  "kernelspec": {
   "display_name": "Python 3",
   "language": "python",
   "name": "python3"
  },
  "language_info": {
   "codemirror_mode": {
    "name": "ipython",
    "version": 3
   },
   "file_extension": ".py",
   "mimetype": "text/x-python",
   "name": "python",
   "nbconvert_exporter": "python",
   "pygments_lexer": "ipython3",
   "version": "3.5.1"
  }
 },
 "nbformat": 4,
 "nbformat_minor": 0
}
